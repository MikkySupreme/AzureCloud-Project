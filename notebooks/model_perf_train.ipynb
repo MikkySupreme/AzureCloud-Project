{
 "cells": [
  {
   "cell_type": "code",
   "execution_count": 1,
   "id": "initial_id",
   "metadata": {
    "collapsed": true,
    "ExecuteTime": {
     "end_time": "2024-01-10T08:46:33.083843100Z",
     "start_time": "2024-01-10T08:46:32.423044400Z"
    },
    "pycharm": {
     "name": "#%%\n"
    }
   },
   "outputs": [],
   "source": [
    "import pandas as pd\n",
    "import xgboost as xgb\n",
    "from sklearn.metrics import accuracy_score  # For classification\n",
    "from sklearn.preprocessing import LabelEncoder"
   ]
  },
  {
   "cell_type": "code",
   "outputs": [],
   "source": [
    "test = pd.read_csv(\"datasets/test.csv\")\n",
    "train = pd.read_csv(\"datasets/train.csv\")"
   ],
   "metadata": {
    "collapsed": false,
    "ExecuteTime": {
     "end_time": "2024-01-10T08:46:48.184553800Z",
     "start_time": "2024-01-10T08:46:34.405827900Z"
    },
    "pycharm": {
     "name": "#%%\n"
    }
   },
   "id": "b0f53a0b5b51bf75",
   "execution_count": 2
  },
  {
   "cell_type": "code",
   "outputs": [
    {
     "data": {
      "text/plain": "((500000, 40), (2500000, 40))"
     },
     "execution_count": 3,
     "metadata": {},
     "output_type": "execute_result"
    }
   ],
   "source": [
    "test.shape, train.shape"
   ],
   "metadata": {
    "collapsed": false,
    "ExecuteTime": {
     "end_time": "2024-01-10T08:46:49.762447100Z",
     "start_time": "2024-01-10T08:46:49.753091600Z"
    },
    "pycharm": {
     "name": "#%%\n"
    }
   },
   "id": "48956bd0786e6070",
   "execution_count": 3
  },
  {
   "cell_type": "code",
   "outputs": [],
   "source": [
    "label_encoder = LabelEncoder()"
   ],
   "metadata": {
    "collapsed": false,
    "ExecuteTime": {
     "end_time": "2024-01-10T08:46:51.177662400Z",
     "start_time": "2024-01-10T08:46:51.153234100Z"
    },
    "pycharm": {
     "name": "#%%\n"
    }
   },
   "id": "3e2777c1892ccf79",
   "execution_count": 4
  },
  {
   "cell_type": "code",
   "outputs": [],
   "source": [
    "X_train = train.drop(\"Etiquette_DPE\", axis='columns')\n",
    "y_train = label_encoder.fit_transform(train[\"Etiquette_DPE\"])\n",
    "X_test = test.drop(\"Etiquette_DPE\", axis='columns')\n",
    "y_test = label_encoder.fit_transform(test['Etiquette_DPE'])"
   ],
   "metadata": {
    "collapsed": false,
    "ExecuteTime": {
     "end_time": "2024-01-10T08:46:52.580155500Z",
     "start_time": "2024-01-10T08:46:51.689596200Z"
    },
    "pycharm": {
     "name": "#%%\n"
    }
   },
   "id": "8087888d588ea7",
   "execution_count": 5
  },
  {
   "cell_type": "code",
   "outputs": [],
   "source": [
    "numerical_cols = X_test.select_dtypes(include=['number']).columns.to_list()\n",
    "categorical_cols = X_test.select_dtypes(include=['object', 'category']).columns.to_list()"
   ],
   "metadata": {
    "collapsed": false,
    "ExecuteTime": {
     "end_time": "2024-01-10T08:46:54.024816600Z",
     "start_time": "2024-01-10T08:46:53.985216400Z"
    },
    "pycharm": {
     "name": "#%%\n"
    }
   },
   "id": "9675c0ee10fcf007",
   "execution_count": 6
  },
  {
   "cell_type": "code",
   "outputs": [],
   "source": [],
   "metadata": {
    "collapsed": false,
    "pycharm": {
     "name": "#%%\n"
    }
   },
   "id": "fb6198f76089faa5"
  },
  {
   "cell_type": "code",
   "outputs": [],
   "source": [
    "X_train = X_train[numerical_cols[1:]]\n",
    "X_test = X_test[numerical_cols[1:]]"
   ],
   "metadata": {
    "collapsed": false,
    "ExecuteTime": {
     "end_time": "2024-01-10T08:46:55.315391900Z",
     "start_time": "2024-01-10T08:46:55.023279200Z"
    },
    "pycharm": {
     "name": "#%%\n"
    }
   },
   "id": "14d5351e5574c6dd",
   "execution_count": 7
  },
  {
   "cell_type": "code",
   "outputs": [
    {
     "data": {
      "text/plain": "((2500000, 17), (500000, 17))"
     },
     "execution_count": 8,
     "metadata": {},
     "output_type": "execute_result"
    }
   ],
   "source": [
    "X_train.shape, X_test.shape"
   ],
   "metadata": {
    "collapsed": false,
    "ExecuteTime": {
     "end_time": "2024-01-10T08:46:56.451987600Z",
     "start_time": "2024-01-10T08:46:56.430698700Z"
    },
    "pycharm": {
     "name": "#%%\n"
    }
   },
   "id": "24781fed85d35c7b",
   "execution_count": 8
  },
  {
   "cell_type": "code",
   "outputs": [
    {
     "data": {
      "text/plain": "   Facteur_couverture_solaire_saisi  \\\n0                               NaN   \n1                               NaN   \n2                               NaN   \n3                               NaN   \n4                               NaN   \n\n   Surface_habitable_desservie_par_installation_ECS  Emission_GES_éclairage  \\\n0                                             110.4                    28.3   \n1                                              83.5                    10.6   \n2                                              68.0                     8.9   \n3                                               NaN                     1.8   \n4                                             142.5                    18.6   \n\n   Conso_5_usages_é_finale_énergie_n°2  \\\n0                              10676.1   \n1                               8678.1   \n2                                  NaN   \n3                               2576.8   \n4                                852.8   \n\n   Surface_totale_capteurs_photovoltaïque  \\\n0                                     NaN   \n1                                    26.4   \n2                                     NaN   \n3                                     NaN   \n4                                     NaN   \n\n   Conso_chauffage_dépensier_installation_chauffage_n°1  \\\n0                                            39870.0      \n1                                            17902.3      \n2                                             7791.8      \n3                                                NaN      \n4                                            48799.7      \n\n   Coût_chauffage_énergie_n°2  Emission_GES_chauffage_énergie_n°2  \\\n0                       342.0                                 0.0   \n1                      1229.2                               577.4   \n2                         NaN                                 NaN   \n3                         0.0                                 0.0   \n4                         0.0                                 0.0   \n\n   Code_postal_(brut)  Facteur_couverture_solaire  Année_construction  \\\n0               25000                         NaN              1945.0   \n1               44850                         NaN                 NaN   \n2               35560                         NaN              1983.0   \n3               44800                         NaN              1976.0   \n4               28200                         NaN              1945.0   \n\n   Code_postal_(BAN)  Conso_5_usages/m²_é_finale  Conso_5_usages_é_finale  \\\n0            25000.0                       171.9                  37940.5   \n1            44850.0                       221.0                  18484.5   \n2            35560.0                       130.5                   8873.0   \n3            44800.0                       162.6                   7729.5   \n4            28200.0                       303.8                  43275.4   \n\n   Hauteur_sous-plafond  Surface_habitable_immeuble  \\\n0                   2.9                       220.8   \n1                   2.5                         NaN   \n2                   2.5                         NaN   \n3                   2.5                      3292.3   \n4                   2.8                         NaN   \n\n   Surface_habitable_logement  \n0                       220.8  \n1                        83.5  \n2                        68.0  \n3                        47.5  \n4                       142.5  ",
      "text/html": "<div>\n<style scoped>\n    .dataframe tbody tr th:only-of-type {\n        vertical-align: middle;\n    }\n\n    .dataframe tbody tr th {\n        vertical-align: top;\n    }\n\n    .dataframe thead th {\n        text-align: right;\n    }\n</style>\n<table border=\"1\" class=\"dataframe\">\n  <thead>\n    <tr style=\"text-align: right;\">\n      <th></th>\n      <th>Facteur_couverture_solaire_saisi</th>\n      <th>Surface_habitable_desservie_par_installation_ECS</th>\n      <th>Emission_GES_éclairage</th>\n      <th>Conso_5_usages_é_finale_énergie_n°2</th>\n      <th>Surface_totale_capteurs_photovoltaïque</th>\n      <th>Conso_chauffage_dépensier_installation_chauffage_n°1</th>\n      <th>Coût_chauffage_énergie_n°2</th>\n      <th>Emission_GES_chauffage_énergie_n°2</th>\n      <th>Code_postal_(brut)</th>\n      <th>Facteur_couverture_solaire</th>\n      <th>Année_construction</th>\n      <th>Code_postal_(BAN)</th>\n      <th>Conso_5_usages/m²_é_finale</th>\n      <th>Conso_5_usages_é_finale</th>\n      <th>Hauteur_sous-plafond</th>\n      <th>Surface_habitable_immeuble</th>\n      <th>Surface_habitable_logement</th>\n    </tr>\n  </thead>\n  <tbody>\n    <tr>\n      <th>0</th>\n      <td>NaN</td>\n      <td>110.4</td>\n      <td>28.3</td>\n      <td>10676.1</td>\n      <td>NaN</td>\n      <td>39870.0</td>\n      <td>342.0</td>\n      <td>0.0</td>\n      <td>25000</td>\n      <td>NaN</td>\n      <td>1945.0</td>\n      <td>25000.0</td>\n      <td>171.9</td>\n      <td>37940.5</td>\n      <td>2.9</td>\n      <td>220.8</td>\n      <td>220.8</td>\n    </tr>\n    <tr>\n      <th>1</th>\n      <td>NaN</td>\n      <td>83.5</td>\n      <td>10.6</td>\n      <td>8678.1</td>\n      <td>26.4</td>\n      <td>17902.3</td>\n      <td>1229.2</td>\n      <td>577.4</td>\n      <td>44850</td>\n      <td>NaN</td>\n      <td>NaN</td>\n      <td>44850.0</td>\n      <td>221.0</td>\n      <td>18484.5</td>\n      <td>2.5</td>\n      <td>NaN</td>\n      <td>83.5</td>\n    </tr>\n    <tr>\n      <th>2</th>\n      <td>NaN</td>\n      <td>68.0</td>\n      <td>8.9</td>\n      <td>NaN</td>\n      <td>NaN</td>\n      <td>7791.8</td>\n      <td>NaN</td>\n      <td>NaN</td>\n      <td>35560</td>\n      <td>NaN</td>\n      <td>1983.0</td>\n      <td>35560.0</td>\n      <td>130.5</td>\n      <td>8873.0</td>\n      <td>2.5</td>\n      <td>NaN</td>\n      <td>68.0</td>\n    </tr>\n    <tr>\n      <th>3</th>\n      <td>NaN</td>\n      <td>NaN</td>\n      <td>1.8</td>\n      <td>2576.8</td>\n      <td>NaN</td>\n      <td>NaN</td>\n      <td>0.0</td>\n      <td>0.0</td>\n      <td>44800</td>\n      <td>NaN</td>\n      <td>1976.0</td>\n      <td>44800.0</td>\n      <td>162.6</td>\n      <td>7729.5</td>\n      <td>2.5</td>\n      <td>3292.3</td>\n      <td>47.5</td>\n    </tr>\n    <tr>\n      <th>4</th>\n      <td>NaN</td>\n      <td>142.5</td>\n      <td>18.6</td>\n      <td>852.8</td>\n      <td>NaN</td>\n      <td>48799.7</td>\n      <td>0.0</td>\n      <td>0.0</td>\n      <td>28200</td>\n      <td>NaN</td>\n      <td>1945.0</td>\n      <td>28200.0</td>\n      <td>303.8</td>\n      <td>43275.4</td>\n      <td>2.8</td>\n      <td>NaN</td>\n      <td>142.5</td>\n    </tr>\n  </tbody>\n</table>\n</div>"
     },
     "execution_count": 9,
     "metadata": {},
     "output_type": "execute_result"
    }
   ],
   "source": [
    "X_train.head()"
   ],
   "metadata": {
    "collapsed": false,
    "ExecuteTime": {
     "end_time": "2024-01-10T08:46:57.427039400Z",
     "start_time": "2024-01-10T08:46:57.378940Z"
    },
    "pycharm": {
     "name": "#%%\n"
    }
   },
   "id": "496e990bbc9a5adf",
   "execution_count": 9
  },
  {
   "cell_type": "code",
   "outputs": [],
   "source": [
    "model = xgb.XGBClassifier()  "
   ],
   "metadata": {
    "collapsed": false,
    "ExecuteTime": {
     "end_time": "2024-01-10T08:47:00.565849400Z",
     "start_time": "2024-01-10T08:47:00.560045800Z"
    },
    "pycharm": {
     "name": "#%%\n"
    }
   },
   "id": "753ee9ed6ceba75f",
   "execution_count": 10
  },
  {
   "cell_type": "code",
   "outputs": [
    {
     "data": {
      "text/plain": "XGBClassifier(base_score=None, booster=None, callbacks=None,\n              colsample_bylevel=None, colsample_bynode=None,\n              colsample_bytree=None, device=None, early_stopping_rounds=None,\n              enable_categorical=False, eval_metric=None, feature_types=None,\n              gamma=None, grow_policy=None, importance_type=None,\n              interaction_constraints=None, learning_rate=None, max_bin=None,\n              max_cat_threshold=None, max_cat_to_onehot=None,\n              max_delta_step=None, max_depth=None, max_leaves=None,\n              min_child_weight=None, missing=nan, monotone_constraints=None,\n              multi_strategy=None, n_estimators=None, n_jobs=None,\n              num_parallel_tree=None, objective='multi:softprob', ...)",
      "text/html": "<style>#sk-container-id-1 {color: black;}#sk-container-id-1 pre{padding: 0;}#sk-container-id-1 div.sk-toggleable {background-color: white;}#sk-container-id-1 label.sk-toggleable__label {cursor: pointer;display: block;width: 100%;margin-bottom: 0;padding: 0.3em;box-sizing: border-box;text-align: center;}#sk-container-id-1 label.sk-toggleable__label-arrow:before {content: \"▸\";float: left;margin-right: 0.25em;color: #696969;}#sk-container-id-1 label.sk-toggleable__label-arrow:hover:before {color: black;}#sk-container-id-1 div.sk-estimator:hover label.sk-toggleable__label-arrow:before {color: black;}#sk-container-id-1 div.sk-toggleable__content {max-height: 0;max-width: 0;overflow: hidden;text-align: left;background-color: #f0f8ff;}#sk-container-id-1 div.sk-toggleable__content pre {margin: 0.2em;color: black;border-radius: 0.25em;background-color: #f0f8ff;}#sk-container-id-1 input.sk-toggleable__control:checked~div.sk-toggleable__content {max-height: 200px;max-width: 100%;overflow: auto;}#sk-container-id-1 input.sk-toggleable__control:checked~label.sk-toggleable__label-arrow:before {content: \"▾\";}#sk-container-id-1 div.sk-estimator input.sk-toggleable__control:checked~label.sk-toggleable__label {background-color: #d4ebff;}#sk-container-id-1 div.sk-label input.sk-toggleable__control:checked~label.sk-toggleable__label {background-color: #d4ebff;}#sk-container-id-1 input.sk-hidden--visually {border: 0;clip: rect(1px 1px 1px 1px);clip: rect(1px, 1px, 1px, 1px);height: 1px;margin: -1px;overflow: hidden;padding: 0;position: absolute;width: 1px;}#sk-container-id-1 div.sk-estimator {font-family: monospace;background-color: #f0f8ff;border: 1px dotted black;border-radius: 0.25em;box-sizing: border-box;margin-bottom: 0.5em;}#sk-container-id-1 div.sk-estimator:hover {background-color: #d4ebff;}#sk-container-id-1 div.sk-parallel-item::after {content: \"\";width: 100%;border-bottom: 1px solid gray;flex-grow: 1;}#sk-container-id-1 div.sk-label:hover label.sk-toggleable__label {background-color: #d4ebff;}#sk-container-id-1 div.sk-serial::before {content: \"\";position: absolute;border-left: 1px solid gray;box-sizing: border-box;top: 0;bottom: 0;left: 50%;z-index: 0;}#sk-container-id-1 div.sk-serial {display: flex;flex-direction: column;align-items: center;background-color: white;padding-right: 0.2em;padding-left: 0.2em;position: relative;}#sk-container-id-1 div.sk-item {position: relative;z-index: 1;}#sk-container-id-1 div.sk-parallel {display: flex;align-items: stretch;justify-content: center;background-color: white;position: relative;}#sk-container-id-1 div.sk-item::before, #sk-container-id-1 div.sk-parallel-item::before {content: \"\";position: absolute;border-left: 1px solid gray;box-sizing: border-box;top: 0;bottom: 0;left: 50%;z-index: -1;}#sk-container-id-1 div.sk-parallel-item {display: flex;flex-direction: column;z-index: 1;position: relative;background-color: white;}#sk-container-id-1 div.sk-parallel-item:first-child::after {align-self: flex-end;width: 50%;}#sk-container-id-1 div.sk-parallel-item:last-child::after {align-self: flex-start;width: 50%;}#sk-container-id-1 div.sk-parallel-item:only-child::after {width: 0;}#sk-container-id-1 div.sk-dashed-wrapped {border: 1px dashed gray;margin: 0 0.4em 0.5em 0.4em;box-sizing: border-box;padding-bottom: 0.4em;background-color: white;}#sk-container-id-1 div.sk-label label {font-family: monospace;font-weight: bold;display: inline-block;line-height: 1.2em;}#sk-container-id-1 div.sk-label-container {text-align: center;}#sk-container-id-1 div.sk-container {/* jupyter's `normalize.less` sets `[hidden] { display: none; }` but bootstrap.min.css set `[hidden] { display: none !important; }` so we also need the `!important` here to be able to override the default hidden behavior on the sphinx rendered scikit-learn.org. See: https://github.com/scikit-learn/scikit-learn/issues/21755 */display: inline-block !important;position: relative;}#sk-container-id-1 div.sk-text-repr-fallback {display: none;}</style><div id=\"sk-container-id-1\" class=\"sk-top-container\"><div class=\"sk-text-repr-fallback\"><pre>XGBClassifier(base_score=None, booster=None, callbacks=None,\n              colsample_bylevel=None, colsample_bynode=None,\n              colsample_bytree=None, device=None, early_stopping_rounds=None,\n              enable_categorical=False, eval_metric=None, feature_types=None,\n              gamma=None, grow_policy=None, importance_type=None,\n              interaction_constraints=None, learning_rate=None, max_bin=None,\n              max_cat_threshold=None, max_cat_to_onehot=None,\n              max_delta_step=None, max_depth=None, max_leaves=None,\n              min_child_weight=None, missing=nan, monotone_constraints=None,\n              multi_strategy=None, n_estimators=None, n_jobs=None,\n              num_parallel_tree=None, objective=&#x27;multi:softprob&#x27;, ...)</pre><b>In a Jupyter environment, please rerun this cell to show the HTML representation or trust the notebook. <br />On GitHub, the HTML representation is unable to render, please try loading this page with nbviewer.org.</b></div><div class=\"sk-container\" hidden><div class=\"sk-item\"><div class=\"sk-estimator sk-toggleable\"><input class=\"sk-toggleable__control sk-hidden--visually\" id=\"sk-estimator-id-1\" type=\"checkbox\" checked><label for=\"sk-estimator-id-1\" class=\"sk-toggleable__label sk-toggleable__label-arrow\">XGBClassifier</label><div class=\"sk-toggleable__content\"><pre>XGBClassifier(base_score=None, booster=None, callbacks=None,\n              colsample_bylevel=None, colsample_bynode=None,\n              colsample_bytree=None, device=None, early_stopping_rounds=None,\n              enable_categorical=False, eval_metric=None, feature_types=None,\n              gamma=None, grow_policy=None, importance_type=None,\n              interaction_constraints=None, learning_rate=None, max_bin=None,\n              max_cat_threshold=None, max_cat_to_onehot=None,\n              max_delta_step=None, max_depth=None, max_leaves=None,\n              min_child_weight=None, missing=nan, monotone_constraints=None,\n              multi_strategy=None, n_estimators=None, n_jobs=None,\n              num_parallel_tree=None, objective=&#x27;multi:softprob&#x27;, ...)</pre></div></div></div></div></div>"
     },
     "execution_count": 11,
     "metadata": {},
     "output_type": "execute_result"
    }
   ],
   "source": [
    "model.fit(X_train, y_train, verbose=True)"
   ],
   "metadata": {
    "collapsed": false,
    "ExecuteTime": {
     "end_time": "2024-01-10T08:48:34.030153100Z",
     "start_time": "2024-01-10T08:47:01.541085300Z"
    },
    "pycharm": {
     "name": "#%%\n"
    }
   },
   "id": "f82423659caa16da",
   "execution_count": 11
  },
  {
   "cell_type": "code",
   "outputs": [],
   "source": [
    "predictions = model.predict(X_test)"
   ],
   "metadata": {
    "collapsed": false,
    "ExecuteTime": {
     "end_time": "2024-01-10T08:48:35.742383500Z",
     "start_time": "2024-01-10T08:48:34.028569300Z"
    },
    "pycharm": {
     "name": "#%%\n"
    }
   },
   "id": "56c4ebd60051c43e",
   "execution_count": 12
  },
  {
   "cell_type": "code",
   "outputs": [
    {
     "name": "stdout",
     "output_type": "stream",
     "text": [
      "Accuracy: 97.62%\n"
     ]
    }
   ],
   "source": [
    "# For classification\n",
    "accuracy = accuracy_score(y_test, predictions)\n",
    "print(\"Accuracy: %.2f%%\" % (accuracy * 100.0))"
   ],
   "metadata": {
    "collapsed": false,
    "ExecuteTime": {
     "end_time": "2024-01-10T08:48:35.754367200Z",
     "start_time": "2024-01-10T08:48:35.742383500Z"
    },
    "pycharm": {
     "name": "#%%\n"
    }
   },
   "id": "2600d152682e98b4",
   "execution_count": 13
  },
  {
   "cell_type": "code",
   "outputs": [
    {
     "data": {
      "text/plain": "           N°DPE Configuration_installation_chauffage_n°2  \\\n0  2289E0123978W                                      NaN   \n1  2274E1764260B                                      NaN   \n2  2206E2755246H                                      NaN   \n3  2211E2030092Y                                      NaN   \n4  2290E0952951M                                      NaN   \n\n   Facteur_couverture_solaire_saisi  \\\n0                               NaN   \n1                               NaN   \n2                               NaN   \n3                               NaN   \n4                               NaN   \n\n   Surface_habitable_desservie_par_installation_ECS  Emission_GES_éclairage  \\\n0                                              35.0                     4.4   \n1                                              85.4                    11.0   \n2                                             114.0                    29.8   \n3                                              39.0                     5.1   \n4                                             120.4                    15.1   \n\n  Cage_d'escalier  Conso_5_usages_é_finale_énergie_n°2  \\\n0             NaN                                  NaN   \n1             NaN                                  NaN   \n2             NaN                                  NaN   \n3             NaN                                  NaN   \n4             NaN                                  NaN   \n\n                      Type_générateur_froid  \\\n0                                       NaN   \n1                                       NaN   \n2  PAC air/air installée entre 2008 et 2014   \n3                                       NaN   \n4                                       NaN   \n\n  Type_émetteur_installation_chauffage_n°2  \\\n0                                      NaN   \n1                                      NaN   \n2                                      NaN   \n3                                      NaN   \n4                                      NaN   \n\n   Surface_totale_capteurs_photovoltaïque  ... Qualité_isolation_enveloppe  \\\n0                                     NaN  ...                insuffisante   \n1                                     NaN  ...                  très bonne   \n2                                     NaN  ...                       bonne   \n3                                     NaN  ...                insuffisante   \n4                                     NaN  ...                  très bonne   \n\n   Qualité_isolation_menuiseries  Qualité_isolation_murs  \\\n0                   insuffisante            insuffisante   \n1                        moyenne                   bonne   \n2                   insuffisante                   bonne   \n3                        moyenne            insuffisante   \n4                     très bonne              très bonne   \n\n   Qualité_isolation_plancher_bas  \\\n0                    insuffisante   \n1                      très bonne   \n2                           bonne   \n3                      très bonne   \n4                           bonne   \n\n  Qualité_isolation_plancher_haut_comble_aménagé  \\\n0                                            NaN   \n1                                            NaN   \n2                                            NaN   \n3                                            NaN   \n4                                     très bonne   \n\n  Qualité_isolation_plancher_haut_comble_perdu  \\\n0                                 insuffisante   \n1                                   très bonne   \n2                                      moyenne   \n3                                   très bonne   \n4                                          NaN   \n\n  Qualité_isolation_plancher_haut_toit_terrase Surface_habitable_immeuble  \\\n0                                          NaN                        NaN   \n1                                          NaN                        NaN   \n2                                          NaN                        NaN   \n3                                          NaN                        NaN   \n4                                          NaN                        NaN   \n\n   Surface_habitable_logement Type_bâtiment  \n0                        35.0        maison  \n1                        85.4   appartement  \n2                       227.9        maison  \n3                        39.0   appartement  \n4                       120.4        maison  \n\n[5 rows x 38 columns]",
      "text/html": "<div>\n<style scoped>\n    .dataframe tbody tr th:only-of-type {\n        vertical-align: middle;\n    }\n\n    .dataframe tbody tr th {\n        vertical-align: top;\n    }\n\n    .dataframe thead th {\n        text-align: right;\n    }\n</style>\n<table border=\"1\" class=\"dataframe\">\n  <thead>\n    <tr style=\"text-align: right;\">\n      <th></th>\n      <th>N°DPE</th>\n      <th>Configuration_installation_chauffage_n°2</th>\n      <th>Facteur_couverture_solaire_saisi</th>\n      <th>Surface_habitable_desservie_par_installation_ECS</th>\n      <th>Emission_GES_éclairage</th>\n      <th>Cage_d'escalier</th>\n      <th>Conso_5_usages_é_finale_énergie_n°2</th>\n      <th>Type_générateur_froid</th>\n      <th>Type_émetteur_installation_chauffage_n°2</th>\n      <th>Surface_totale_capteurs_photovoltaïque</th>\n      <th>...</th>\n      <th>Qualité_isolation_enveloppe</th>\n      <th>Qualité_isolation_menuiseries</th>\n      <th>Qualité_isolation_murs</th>\n      <th>Qualité_isolation_plancher_bas</th>\n      <th>Qualité_isolation_plancher_haut_comble_aménagé</th>\n      <th>Qualité_isolation_plancher_haut_comble_perdu</th>\n      <th>Qualité_isolation_plancher_haut_toit_terrase</th>\n      <th>Surface_habitable_immeuble</th>\n      <th>Surface_habitable_logement</th>\n      <th>Type_bâtiment</th>\n    </tr>\n  </thead>\n  <tbody>\n    <tr>\n      <th>0</th>\n      <td>2289E0123978W</td>\n      <td>NaN</td>\n      <td>NaN</td>\n      <td>35.0</td>\n      <td>4.4</td>\n      <td>NaN</td>\n      <td>NaN</td>\n      <td>NaN</td>\n      <td>NaN</td>\n      <td>NaN</td>\n      <td>...</td>\n      <td>insuffisante</td>\n      <td>insuffisante</td>\n      <td>insuffisante</td>\n      <td>insuffisante</td>\n      <td>NaN</td>\n      <td>insuffisante</td>\n      <td>NaN</td>\n      <td>NaN</td>\n      <td>35.0</td>\n      <td>maison</td>\n    </tr>\n    <tr>\n      <th>1</th>\n      <td>2274E1764260B</td>\n      <td>NaN</td>\n      <td>NaN</td>\n      <td>85.4</td>\n      <td>11.0</td>\n      <td>NaN</td>\n      <td>NaN</td>\n      <td>NaN</td>\n      <td>NaN</td>\n      <td>NaN</td>\n      <td>...</td>\n      <td>très bonne</td>\n      <td>moyenne</td>\n      <td>bonne</td>\n      <td>très bonne</td>\n      <td>NaN</td>\n      <td>très bonne</td>\n      <td>NaN</td>\n      <td>NaN</td>\n      <td>85.4</td>\n      <td>appartement</td>\n    </tr>\n    <tr>\n      <th>2</th>\n      <td>2206E2755246H</td>\n      <td>NaN</td>\n      <td>NaN</td>\n      <td>114.0</td>\n      <td>29.8</td>\n      <td>NaN</td>\n      <td>NaN</td>\n      <td>PAC air/air installée entre 2008 et 2014</td>\n      <td>NaN</td>\n      <td>NaN</td>\n      <td>...</td>\n      <td>bonne</td>\n      <td>insuffisante</td>\n      <td>bonne</td>\n      <td>bonne</td>\n      <td>NaN</td>\n      <td>moyenne</td>\n      <td>NaN</td>\n      <td>NaN</td>\n      <td>227.9</td>\n      <td>maison</td>\n    </tr>\n    <tr>\n      <th>3</th>\n      <td>2211E2030092Y</td>\n      <td>NaN</td>\n      <td>NaN</td>\n      <td>39.0</td>\n      <td>5.1</td>\n      <td>NaN</td>\n      <td>NaN</td>\n      <td>NaN</td>\n      <td>NaN</td>\n      <td>NaN</td>\n      <td>...</td>\n      <td>insuffisante</td>\n      <td>moyenne</td>\n      <td>insuffisante</td>\n      <td>très bonne</td>\n      <td>NaN</td>\n      <td>très bonne</td>\n      <td>NaN</td>\n      <td>NaN</td>\n      <td>39.0</td>\n      <td>appartement</td>\n    </tr>\n    <tr>\n      <th>4</th>\n      <td>2290E0952951M</td>\n      <td>NaN</td>\n      <td>NaN</td>\n      <td>120.4</td>\n      <td>15.1</td>\n      <td>NaN</td>\n      <td>NaN</td>\n      <td>NaN</td>\n      <td>NaN</td>\n      <td>NaN</td>\n      <td>...</td>\n      <td>très bonne</td>\n      <td>très bonne</td>\n      <td>très bonne</td>\n      <td>bonne</td>\n      <td>très bonne</td>\n      <td>NaN</td>\n      <td>NaN</td>\n      <td>NaN</td>\n      <td>120.4</td>\n      <td>maison</td>\n    </tr>\n  </tbody>\n</table>\n<p>5 rows × 38 columns</p>\n</div>"
     },
     "execution_count": 14,
     "metadata": {},
     "output_type": "execute_result"
    }
   ],
   "source": [
    "val = pd.read_csv(\"datasets/val.csv\")\n",
    "val.head()"
   ],
   "metadata": {
    "collapsed": false,
    "ExecuteTime": {
     "end_time": "2024-01-10T08:48:37.081224100Z",
     "start_time": "2024-01-10T08:48:35.966930400Z"
    },
    "pycharm": {
     "name": "#%%\n"
    }
   },
   "id": "dbfdc8aeea25c97e",
   "execution_count": 14
  },
  {
   "cell_type": "code",
   "outputs": [],
   "source": [
    "valuate_data = val[numerical_cols[1:]]"
   ],
   "metadata": {
    "collapsed": false,
    "ExecuteTime": {
     "end_time": "2024-01-10T08:48:37.101367700Z",
     "start_time": "2024-01-10T08:48:37.068475600Z"
    },
    "pycharm": {
     "name": "#%%\n"
    }
   },
   "id": "82b0ec556d6c8ff5",
   "execution_count": 15
  },
  {
   "cell_type": "code",
   "outputs": [
    {
     "data": {
      "text/plain": "   Facteur_couverture_solaire_saisi  \\\n0                               NaN   \n1                               NaN   \n2                               NaN   \n3                               NaN   \n4                               NaN   \n\n   Surface_habitable_desservie_par_installation_ECS  Emission_GES_éclairage  \\\n0                                              35.0                     4.4   \n1                                              85.4                    11.0   \n2                                             114.0                    29.8   \n3                                              39.0                     5.1   \n4                                             120.4                    15.1   \n\n   Conso_5_usages_é_finale_énergie_n°2  \\\n0                                  NaN   \n1                                  NaN   \n2                                  NaN   \n3                                  NaN   \n4                                  NaN   \n\n   Surface_totale_capteurs_photovoltaïque  \\\n0                                     NaN   \n1                                     NaN   \n2                                     NaN   \n3                                     NaN   \n4                                     NaN   \n\n   Conso_chauffage_dépensier_installation_chauffage_n°1  \\\n0                                            11491.2      \n1                                             2892.4      \n2                                             6791.3      \n3                                             2081.6      \n4                                             2024.7      \n\n   Coût_chauffage_énergie_n°2  Emission_GES_chauffage_énergie_n°2  \\\n0                         NaN                                 NaN   \n1                         NaN                                 NaN   \n2                         NaN                                 NaN   \n3                         NaN                                 NaN   \n4                         NaN                                 NaN   \n\n   Code_postal_(brut)  Facteur_couverture_solaire  Année_construction  \\\n0               89200                         NaN              1947.0   \n1               74940                         NaN                 NaN   \n2                6410                         NaN                 NaN   \n3               11000                         NaN                 NaN   \n4               90400                         NaN              2019.0   \n\n   Code_postal_(BAN)  Conso_5_usages/m²_é_finale  Conso_5_usages_é_finale  \\\n0            89200.0                       307.0                  10777.1   \n1            74600.0                        57.0                   4932.8   \n2             6410.0                        45.0                  10307.1   \n3            11000.0                        81.0                   3159.4   \n4            90400.0                        36.0                   4430.8   \n\n   Hauteur_sous-plafond  Surface_habitable_immeuble  \\\n0                   2.5                         NaN   \n1                   2.5                         NaN   \n2                   2.5                         NaN   \n3                   3.5                         NaN   \n4                   2.5                         NaN   \n\n   Surface_habitable_logement  \n0                        35.0  \n1                        85.4  \n2                       227.9  \n3                        39.0  \n4                       120.4  ",
      "text/html": "<div>\n<style scoped>\n    .dataframe tbody tr th:only-of-type {\n        vertical-align: middle;\n    }\n\n    .dataframe tbody tr th {\n        vertical-align: top;\n    }\n\n    .dataframe thead th {\n        text-align: right;\n    }\n</style>\n<table border=\"1\" class=\"dataframe\">\n  <thead>\n    <tr style=\"text-align: right;\">\n      <th></th>\n      <th>Facteur_couverture_solaire_saisi</th>\n      <th>Surface_habitable_desservie_par_installation_ECS</th>\n      <th>Emission_GES_éclairage</th>\n      <th>Conso_5_usages_é_finale_énergie_n°2</th>\n      <th>Surface_totale_capteurs_photovoltaïque</th>\n      <th>Conso_chauffage_dépensier_installation_chauffage_n°1</th>\n      <th>Coût_chauffage_énergie_n°2</th>\n      <th>Emission_GES_chauffage_énergie_n°2</th>\n      <th>Code_postal_(brut)</th>\n      <th>Facteur_couverture_solaire</th>\n      <th>Année_construction</th>\n      <th>Code_postal_(BAN)</th>\n      <th>Conso_5_usages/m²_é_finale</th>\n      <th>Conso_5_usages_é_finale</th>\n      <th>Hauteur_sous-plafond</th>\n      <th>Surface_habitable_immeuble</th>\n      <th>Surface_habitable_logement</th>\n    </tr>\n  </thead>\n  <tbody>\n    <tr>\n      <th>0</th>\n      <td>NaN</td>\n      <td>35.0</td>\n      <td>4.4</td>\n      <td>NaN</td>\n      <td>NaN</td>\n      <td>11491.2</td>\n      <td>NaN</td>\n      <td>NaN</td>\n      <td>89200</td>\n      <td>NaN</td>\n      <td>1947.0</td>\n      <td>89200.0</td>\n      <td>307.0</td>\n      <td>10777.1</td>\n      <td>2.5</td>\n      <td>NaN</td>\n      <td>35.0</td>\n    </tr>\n    <tr>\n      <th>1</th>\n      <td>NaN</td>\n      <td>85.4</td>\n      <td>11.0</td>\n      <td>NaN</td>\n      <td>NaN</td>\n      <td>2892.4</td>\n      <td>NaN</td>\n      <td>NaN</td>\n      <td>74940</td>\n      <td>NaN</td>\n      <td>NaN</td>\n      <td>74600.0</td>\n      <td>57.0</td>\n      <td>4932.8</td>\n      <td>2.5</td>\n      <td>NaN</td>\n      <td>85.4</td>\n    </tr>\n    <tr>\n      <th>2</th>\n      <td>NaN</td>\n      <td>114.0</td>\n      <td>29.8</td>\n      <td>NaN</td>\n      <td>NaN</td>\n      <td>6791.3</td>\n      <td>NaN</td>\n      <td>NaN</td>\n      <td>6410</td>\n      <td>NaN</td>\n      <td>NaN</td>\n      <td>6410.0</td>\n      <td>45.0</td>\n      <td>10307.1</td>\n      <td>2.5</td>\n      <td>NaN</td>\n      <td>227.9</td>\n    </tr>\n    <tr>\n      <th>3</th>\n      <td>NaN</td>\n      <td>39.0</td>\n      <td>5.1</td>\n      <td>NaN</td>\n      <td>NaN</td>\n      <td>2081.6</td>\n      <td>NaN</td>\n      <td>NaN</td>\n      <td>11000</td>\n      <td>NaN</td>\n      <td>NaN</td>\n      <td>11000.0</td>\n      <td>81.0</td>\n      <td>3159.4</td>\n      <td>3.5</td>\n      <td>NaN</td>\n      <td>39.0</td>\n    </tr>\n    <tr>\n      <th>4</th>\n      <td>NaN</td>\n      <td>120.4</td>\n      <td>15.1</td>\n      <td>NaN</td>\n      <td>NaN</td>\n      <td>2024.7</td>\n      <td>NaN</td>\n      <td>NaN</td>\n      <td>90400</td>\n      <td>NaN</td>\n      <td>2019.0</td>\n      <td>90400.0</td>\n      <td>36.0</td>\n      <td>4430.8</td>\n      <td>2.5</td>\n      <td>NaN</td>\n      <td>120.4</td>\n    </tr>\n  </tbody>\n</table>\n</div>"
     },
     "execution_count": 16,
     "metadata": {},
     "output_type": "execute_result"
    }
   ],
   "source": [
    "valuate_data.head()"
   ],
   "metadata": {
    "collapsed": false,
    "ExecuteTime": {
     "end_time": "2024-01-10T08:48:37.252436800Z",
     "start_time": "2024-01-10T08:48:37.107340100Z"
    },
    "pycharm": {
     "name": "#%%\n"
    }
   },
   "id": "3c9ca9c4ef8b40f5",
   "execution_count": 16
  },
  {
   "cell_type": "code",
   "outputs": [],
   "source": [
    "predictions2 = model.predict(valuate_data)"
   ],
   "metadata": {
    "collapsed": false,
    "ExecuteTime": {
     "end_time": "2024-01-10T08:48:38.351662100Z",
     "start_time": "2024-01-10T08:48:37.116968300Z"
    },
    "pycharm": {
     "name": "#%%\n"
    }
   },
   "id": "59061449829bca42",
   "execution_count": 17
  },
  {
   "cell_type": "code",
   "outputs": [
    {
     "data": {
      "text/plain": "array([6, 2, 1, ..., 1, 3, 2])"
     },
     "execution_count": 20,
     "metadata": {},
     "output_type": "execute_result"
    }
   ],
   "source": [
    "predictions2"
   ],
   "metadata": {
    "collapsed": false,
    "ExecuteTime": {
     "end_time": "2024-01-10T08:49:12.504118200Z",
     "start_time": "2024-01-10T08:49:12.457052100Z"
    },
    "pycharm": {
     "name": "#%%\n"
    }
   },
   "id": "e30555f2297e98bf",
   "execution_count": 20
  },
  {
   "cell_type": "code",
   "outputs": [],
   "source": [
    "df = pd.DataFrame(columns=['Etiquette_DPE'])"
   ],
   "metadata": {
    "collapsed": false,
    "ExecuteTime": {
     "end_time": "2024-01-10T08:51:40.388631400Z",
     "start_time": "2024-01-10T08:51:40.338989600Z"
    },
    "pycharm": {
     "name": "#%%\n"
    }
   },
   "id": "4425c3559305fbea",
   "execution_count": 22
  },
  {
   "cell_type": "code",
   "outputs": [],
   "source": [
    "df['Etiquette_DPE'] = predictions2"
   ],
   "metadata": {
    "collapsed": false,
    "ExecuteTime": {
     "end_time": "2024-01-10T08:51:48.768533Z",
     "start_time": "2024-01-10T08:51:48.745430800Z"
    },
    "pycharm": {
     "name": "#%%\n"
    }
   },
   "id": "7a5cb3d0264e53ca",
   "execution_count": 24
  },
  {
   "cell_type": "code",
   "outputs": [],
   "source": [
    "df['Etiquette_DPE'] = df['Etiquette_DPE'].map({\n",
    "    0: 'A',\n",
    "    1: 'B',\n",
    "    2: 'C',\n",
    "    3: 'D',\n",
    "    4: 'E',\n",
    "    5: 'F',\n",
    "    6: 'G'\n",
    "})"
   ],
   "metadata": {
    "collapsed": false,
    "ExecuteTime": {
     "end_time": "2024-01-10T08:53:06.092650400Z",
     "start_time": "2024-01-10T08:53:06.060833200Z"
    },
    "pycharm": {
     "name": "#%%\n"
    }
   },
   "id": "7e47d82452a6ded4",
   "execution_count": 26
  },
  {
   "cell_type": "code",
   "outputs": [],
   "source": [
    "df[\"N°DPE\"] = val[\"N°DPE\"]"
   ],
   "metadata": {
    "collapsed": false,
    "ExecuteTime": {
     "end_time": "2024-01-10T08:53:44.886865700Z",
     "start_time": "2024-01-10T08:53:44.859577700Z"
    },
    "pycharm": {
     "name": "#%%\n"
    }
   },
   "id": "b6c47f6f8e971b42",
   "execution_count": 28
  },
  {
   "cell_type": "code",
   "outputs": [],
   "source": [
    "df = df[[\"N°DPE\", \"Etiquette_DPE\"]]"
   ],
   "metadata": {
    "collapsed": false,
    "ExecuteTime": {
     "end_time": "2024-01-10T08:54:37.329957300Z",
     "start_time": "2024-01-10T08:54:37.299451200Z"
    },
    "pycharm": {
     "name": "#%%\n"
    }
   },
   "id": "c8ddc1d65ea00cbb",
   "execution_count": 30
  },
  {
   "cell_type": "code",
   "outputs": [
    {
     "data": {
      "text/plain": "           N°DPE Etiquette_DPE\n0  2289E0123978W             G\n1  2274E1764260B             C\n2  2206E2755246H             B\n3  2211E2030092Y             D\n4  2290E0952951M             B",
      "text/html": "<div>\n<style scoped>\n    .dataframe tbody tr th:only-of-type {\n        vertical-align: middle;\n    }\n\n    .dataframe tbody tr th {\n        vertical-align: top;\n    }\n\n    .dataframe thead th {\n        text-align: right;\n    }\n</style>\n<table border=\"1\" class=\"dataframe\">\n  <thead>\n    <tr style=\"text-align: right;\">\n      <th></th>\n      <th>N°DPE</th>\n      <th>Etiquette_DPE</th>\n    </tr>\n  </thead>\n  <tbody>\n    <tr>\n      <th>0</th>\n      <td>2289E0123978W</td>\n      <td>G</td>\n    </tr>\n    <tr>\n      <th>1</th>\n      <td>2274E1764260B</td>\n      <td>C</td>\n    </tr>\n    <tr>\n      <th>2</th>\n      <td>2206E2755246H</td>\n      <td>B</td>\n    </tr>\n    <tr>\n      <th>3</th>\n      <td>2211E2030092Y</td>\n      <td>D</td>\n    </tr>\n    <tr>\n      <th>4</th>\n      <td>2290E0952951M</td>\n      <td>B</td>\n    </tr>\n  </tbody>\n</table>\n</div>"
     },
     "execution_count": 31,
     "metadata": {},
     "output_type": "execute_result"
    }
   ],
   "source": [
    "df.head()"
   ],
   "metadata": {
    "collapsed": false,
    "ExecuteTime": {
     "end_time": "2024-01-10T08:54:39.561875100Z",
     "start_time": "2024-01-10T08:54:39.516577800Z"
    },
    "pycharm": {
     "name": "#%%\n"
    }
   },
   "id": "da6ee3e1d8050850",
   "execution_count": 31
  },
  {
   "cell_type": "code",
   "outputs": [],
   "source": [
    "df.to_csv(\"result.csv\", index=False, encoding=\"utf-8\")"
   ],
   "metadata": {
    "collapsed": false,
    "ExecuteTime": {
     "end_time": "2024-01-10T08:54:58.138768900Z",
     "start_time": "2024-01-10T08:54:57.959451800Z"
    },
    "pycharm": {
     "name": "#%%\n"
    }
   },
   "id": "e7fd12d6e0ea0925",
   "execution_count": 32
  },
  {
   "cell_type": "code",
   "outputs": [
    {
     "ename": "AttributeError",
     "evalue": "'XGBClassifier' object has no attribute 'save'",
     "output_type": "error",
     "traceback": [
      "\u001B[0;31m---------------------------------------------------------------------------\u001B[0m",
      "\u001B[0;31mAttributeError\u001B[0m                            Traceback (most recent call last)",
      "Cell \u001B[0;32mIn[33], line 1\u001B[0m\n\u001B[0;32m----> 1\u001B[0m \u001B[43mmodel\u001B[49m\u001B[38;5;241;43m.\u001B[39;49m\u001B[43msave\u001B[49m(\u001B[38;5;124m\"\u001B[39m\u001B[38;5;124mmodel.keras\u001B[39m\u001B[38;5;124m\"\u001B[39m)\n",
      "\u001B[0;31mAttributeError\u001B[0m: 'XGBClassifier' object has no attribute 'save'"
     ]
    }
   ],
   "source": [
    "model.save(\"model.keras\")"
   ],
   "metadata": {
    "collapsed": false,
    "ExecuteTime": {
     "end_time": "2024-01-10T09:00:28.415903100Z",
     "start_time": "2024-01-10T09:00:28.387200400Z"
    },
    "pycharm": {
     "name": "#%%\n"
    }
   },
   "id": "3b31db4fb2d4a4c8",
   "execution_count": 33
  },
  {
   "cell_type": "code",
   "outputs": [
    {
     "name": "stdout",
     "output_type": "stream",
     "text": [
      "XGBoost model saved to xgboost_model.pkl\n"
     ]
    }
   ],
   "source": [
    "import pickle\n",
    "\n",
    "model_filepath = 'xgboost_model.pkl'\n",
    "# Save the model to a file using pickle\n",
    "with open(model_filepath, 'wb') as model_file:\n",
    "    pickle.dump(model, model_file)\n",
    "print(f\"XGBoost model saved to {model_filepath}\")"
   ],
   "metadata": {
    "collapsed": false,
    "ExecuteTime": {
     "end_time": "2024-01-10T09:01:49.871956700Z",
     "start_time": "2024-01-10T09:01:49.796507300Z"
    },
    "pycharm": {
     "name": "#%%\n"
    }
   },
   "id": "ddfc88049e4dd079",
   "execution_count": 34
  },
  {
   "cell_type": "code",
   "outputs": [],
   "source": [
    "# Load the saved XGBoost model\n",
    "with open(model_filepath, 'rb') as model_file:\n",
    "    loaded_model = pickle.load(model_file)\n",
    "\n",
    "# Use the loaded model for predictions\n",
    "# predictions = loaded_model.predict(X_test)"
   ],
   "metadata": {
    "collapsed": false,
    "pycharm": {
     "name": "#%%\n"
    }
   },
   "id": "31ef8f488d244eb5"
  }
 ],
 "metadata": {
  "kernelspec": {
   "display_name": "Python 3",
   "language": "python",
   "name": "python3"
  },
  "language_info": {
   "codemirror_mode": {
    "name": "ipython",
    "version": 2
   },
   "file_extension": ".py",
   "mimetype": "text/x-python",
   "name": "python",
   "nbconvert_exporter": "python",
   "pygments_lexer": "ipython2",
   "version": "2.7.6"
  }
 },
 "nbformat": 4,
 "nbformat_minor": 5
}